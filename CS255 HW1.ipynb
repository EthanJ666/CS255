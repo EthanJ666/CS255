{
 "cells": [
  {
   "cell_type": "code",
   "execution_count": 32,
   "id": "a4106a7e",
   "metadata": {},
   "outputs": [],
   "source": [
    "import sys"
   ]
  },
  {
   "cell_type": "code",
   "execution_count": 33,
   "id": "c6440617",
   "metadata": {},
   "outputs": [],
   "source": [
    "ciphertexts = ['315c4eeaa8b5f8aaf9174145bf43e1784b8fa00dc71d885a804e5ee9fa40b16349c146fb778cdf2d3aff021dfff5b403b510d0d0455468aeb98622b137dae857553ccd8883a7bc37520e06e515d22c954eba5025b8cc57ee59418ce7dc6bc41556bdb36bbca3e8774301fbcaa3b83b220809560987815f65286764703de0f3d524400a19b159610b11ef3e',\n",
    "              '234c02ecbbfbafa3ed18510abd11fa724fcda2018a1a8342cf064bbde548b12b07df44ba7191d9606ef4081ffde5ad46a5069d9f7f543bedb9c861bf29c7e205132eda9382b0bc2c5c4b45f919cf3a9f1cb74151f6d551f4480c82b2cb24cc5b028aa76eb7b4ab24171ab3cdadb8356f',\n",
    "              '32510ba9a7b2bba9b8005d43a304b5714cc0bb0c8a34884dd91304b8ad40b62b07df44ba6e9d8a2368e51d04e0e7b207b70b9b8261112bacb6c866a232dfe257527dc29398f5f3251a0d47e503c66e935de81230b59b7afb5f41afa8d661cb',\n",
    "              '32510ba9aab2a8a4fd06414fb517b5605cc0aa0dc91a8908c2064ba8ad5ea06a029056f47a8ad3306ef5021eafe1ac01a81197847a5c68a1b78769a37bc8f4575432c198ccb4ef63590256e305cd3a9544ee4160ead45aef520489e7da7d835402bca670bda8eb775200b8dabbba246b130f040d8ec6447e2c767f3d30ed81ea2e4c1404e1315a1010e7229be6636aaa',\n",
    "              '3f561ba9adb4b6ebec54424ba317b564418fac0dd35f8c08d31a1fe9e24fe56808c213f17c81d9607cee021dafe1e001b21ade877a5e68bea88d61b93ac5ee0d562e8e9582f5ef375f0a4ae20ed86e935de81230b59b73fb4302cd95d770c65b40aaa065f2a5e33a5a0bb5dcaba43722130f042f8ec85b7c2070',\n",
    "              '32510bfbacfbb9befd54415da243e1695ecabd58c519cd4bd2061bbde24eb76a19d84aba34d8de287be84d07e7e9a30ee714979c7e1123a8bd9822a33ecaf512472e8e8f8db3f9635c1949e640c621854eba0d79eccf52ff111284b4cc61d11902aebc66f2b2e436434eacc0aba938220b084800c2ca4e693522643573b2c4ce35050b0cf774201f0fe52ac9f26d71b6cf61a711cc229f77ace7aa88a2f19983122b11be87a59c355d25f8e4',\n",
    "              '32510bfbacfbb9befd54415da243e1695ecabd58c519cd4bd90f1fa6ea5ba47b01c909ba7696cf606ef40c04afe1ac0aa8148dd066592ded9f8774b529c7ea125d298e8883f5e9305f4b44f915cb2bd05af51373fd9b4af511039fa2d96f83414aaaf261bda2e97b170fb5cce2a53e675c154c0d9681596934777e2275b381ce2e40582afe67650b13e72287ff2270abcf73bb028932836fbdecfecee0a3b894473c1bbeb6b4913a536ce4f9b13f1efff71ea313c8661dd9a4ce',\n",
    "              '315c4eeaa8b5f8bffd11155ea506b56041c6a00c8a08854dd21a4bbde54ce56801d943ba708b8a3574f40c00fff9e00fa1439fd0654327a3bfc860b92f89ee04132ecb9298f5fd2d5e4b45e40ecc3b9d59e9417df7c95bba410e9aa2ca24c5474da2f276baa3ac325918b2daada43d6712150441c2e04f6565517f317da9d3',\n",
    "              '271946f9bbb2aeadec111841a81abc300ecaa01bd8069d5cc91005e9fe4aad6e04d513e96d99de2569bc5e50eeeca709b50a8a987f4264edb6896fb537d0a716132ddc938fb0f836480e06ed0fcd6e9759f40462f9cf57f4564186a2c1778f1543efa270bda5e933421cbe88a4a52222190f471e9bd15f652b653b7071aec59a2705081ffe72651d08f822c9ed6d76e48b63ab15d0208573a7eef027',\n",
    "              '466d06ece998b7a2fb1d464fed2ced7641ddaa3cc31c9941cf110abbf409ed39598005b3399ccfafb61d0315fca0a314be138a9f32503bedac8067f03adbf3575c3b8edc9ba7f537530541ab0f9f3cd04ff50d66f1d559ba520e89a2cb2a83']\n",
    "\n",
    "target_cipher = '32510ba9babebbbefd001547a810e67149caee11d945cd7fc81a05e9f85aac650e9052ba6a8cd8257bf14d13e6f0a803b54fde9e77472dbff89d71b57bddef121336cb85ccb8f3315f4b52e301d16e9f52f904'\n",
    "        "
   ]
  },
  {
   "cell_type": "code",
   "execution_count": 34,
   "id": "98442dc9",
   "metadata": {},
   "outputs": [
    {
     "name": "stdout",
     "output_type": "stream",
     "text": [
      "10\n",
      "32\n"
     ]
    }
   ],
   "source": [
    "print(len(ciphertexts))\n",
    "\n",
    "a = bytes.fromhex(ciphertexts[5])\n",
    "print(ord(' '))"
   ]
  },
  {
   "cell_type": "code",
   "execution_count": 42,
   "id": "753a08fa",
   "metadata": {},
   "outputs": [],
   "source": [
    "def find_longest_len(ciphertexts):\n",
    "    max_len = 0\n",
    "    for i in range(len(ciphertexts)):\n",
    "        cipher = decode_from_hex(ciphertexts[i])\n",
    "        if len(cipher) > max_len:\n",
    "            max_len = len(cipher)\n",
    "    return max_len\n",
    "\n",
    "\n",
    "def decode_from_hex(text):\n",
    "    a = bytes.fromhex(text)\n",
    "    return a\n",
    "\n",
    "\n",
    "def xor(str_1, str_2):\n",
    "    result = []\n",
    "    \n",
    "    len_min = len(str_1)\n",
    "    if len(str_1) > len(str_2):\n",
    "        len_min = len(str_2)\n",
    "    \n",
    "    new_1 = str_1[:len_min]\n",
    "    new_2 = str_2[:len_min]\n",
    "    \n",
    "    for i in range(len(new_1)):\n",
    "        result.append(new_1[i] ^ new_2[i])\n",
    "    \n",
    "    return result\n",
    "\n",
    "\n",
    "def find_space(xor_str, index_space):\n",
    "    for i in range(len(xor_str)):\n",
    "        a = chr(xor_str[i])\n",
    "        if a.isalpha():\n",
    "            if i not in index_space:\n",
    "                index_space[i] = 0\n",
    "            index_space[i] += 1\n",
    "\n",
    "            \n",
    "def check_possible_space(index_space):\n",
    "    possible_space = []\n",
    "    for index, num_spaces in index_space.items():\n",
    "        if num_spaces > 6:\n",
    "            possible_space.append(index)\n",
    "    return possible_space\n",
    "\n",
    "\n",
    "def calculate_key(key, index_space, cipher):\n",
    "    decode_str = decode_from_hex(cipher)\n",
    "    \n",
    "    for ind in index_space:\n",
    "        key[ind] = (ord(' ') ^ decode_str[ind])\n",
    "   \n",
    "            \n",
    "\n",
    "def decode_cipher(ciphertexts):\n",
    "    max_len = find_longest_len(ciphertexts)\n",
    "    key = []\n",
    "    for i in range(max_len):\n",
    "        key.append(ord(' '))\n",
    "    \n",
    "    for index_1, cipher_1 in enumerate(ciphertexts):\n",
    "        index_space = {}\n",
    "        \n",
    "        for index_2, cipher_2 in enumerate(ciphertexts):\n",
    "            if index_2 != index_1:\n",
    "                decoded_1 = decode_from_hex(cipher_1)\n",
    "                decoded_2 = decode_from_hex(cipher_2) #in unicode now\n",
    "                \n",
    "                xor_result = xor(decoded_1, decoded_2)\n",
    "                find_space(xor_result, index_space)\n",
    "                \n",
    "        possible_space = check_possible_space(index_space)\n",
    "        calculate_key(key, possible_space, cipher_1)\n",
    "    \n",
    "    return key\n",
    "        \n",
    "\n",
    "def figure_out(target_cipher, key):\n",
    "    result = []\n",
    "    target = decode_from_hex(target_cipher)\n",
    "    \n",
    "    for i in range(len(target)):\n",
    "        result.append(chr(target[i] ^ key[i]))\n",
    "    \n",
    "    return result"
   ]
  },
  {
   "cell_type": "code",
   "execution_count": 44,
   "id": "a6a6f14e",
   "metadata": {},
   "outputs": [
    {
     "name": "stdout",
     "output_type": "stream",
     "text": [
      "['T', 'h', 'e', ' ', 's', 'e', 'c', 'u', 'e', 't', '-', 'm', 'e', 's', 'Æ', 'a', 'g', 'e', 'Î', 'i', 's', ':', ' ', 'W', 'h', ':', '%', ' ', 'u', 's', 'i', '|', 'g', ' ', 'r', '\\x9a', 's', 't', 'r', 'e', 'í', 'Ì', ' ', 'c', 'i', 'p', 'h', 'e', 'r', ',', ' ', 'n', 'e', 'v', '\\r', '\\x9f', 'Ø', 'u', 's', 'e', ' ', 't', 'h', '2', ' ', 'k', 'ë', 'y', ' ', '\\x98', 'o', 'r', 'e', ' ', 't', 'h', 'a', 'n', ' ', 'o', 'n', 'c', '$']\n"
     ]
    }
   ],
   "source": [
    "key = decode_cipher(ciphertexts)\n",
    "result = figure_out(target_cipher, key)\n",
    "print(result)\n",
    "#print(''.join(result))"
   ]
  },
  {
   "cell_type": "markdown",
   "id": "2337db0f",
   "metadata": {},
   "source": [
    "So the encrypted words are: 'The secure message is: When using string cipher, never use the key more than once'"
   ]
  },
  {
   "cell_type": "code",
   "execution_count": null,
   "id": "d1305b0b",
   "metadata": {},
   "outputs": [],
   "source": []
  }
 ],
 "metadata": {
  "kernelspec": {
   "display_name": "Python 3 (ipykernel)",
   "language": "python",
   "name": "python3"
  },
  "language_info": {
   "codemirror_mode": {
    "name": "ipython",
    "version": 3
   },
   "file_extension": ".py",
   "mimetype": "text/x-python",
   "name": "python",
   "nbconvert_exporter": "python",
   "pygments_lexer": "ipython3",
   "version": "3.9.7"
  }
 },
 "nbformat": 4,
 "nbformat_minor": 5
}
